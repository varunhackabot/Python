{
  "nbformat": 4,
  "nbformat_minor": 0,
  "metadata": {
    "kernelspec": {
      "display_name": "Python 3",
      "language": "python",
      "name": "python3"
    },
    "language_info": {
      "codemirror_mode": {
        "name": "ipython",
        "version": 3
      },
      "file_extension": ".py",
      "mimetype": "text/x-python",
      "name": "python",
      "nbconvert_exporter": "python",
      "pygments_lexer": "ipython3",
      "version": "3.7.4"
    },
    "colab": {
      "name": "Assignment Solution.ipynb",
      "provenance": []
    }
  },
  "cells": [
    {
      "cell_type": "code",
      "metadata": {
        "id": "X5OV_HQWtbG0"
      },
      "source": [
        "import pandas as pd"
      ],
      "execution_count": 5,
      "outputs": []
    },
    {
      "cell_type": "code",
      "metadata": {
        "colab": {
          "base_uri": "https://localhost:8080/",
          "height": 204
        },
        "id": "p9RuNIE6tbG5",
        "outputId": "519567b6-59ab-42ea-f95a-2ff0fc6d8af4"
      },
      "source": [
        "\n",
        "# Load and view first few lines of dataset\n",
        "df = pd.read_csv('admission_data.csv')\n",
        "df.head()"
      ],
      "execution_count": 6,
      "outputs": [
        {
          "output_type": "execute_result",
          "data": {
            "text/html": [
              "<div>\n",
              "<style scoped>\n",
              "    .dataframe tbody tr th:only-of-type {\n",
              "        vertical-align: middle;\n",
              "    }\n",
              "\n",
              "    .dataframe tbody tr th {\n",
              "        vertical-align: top;\n",
              "    }\n",
              "\n",
              "    .dataframe thead th {\n",
              "        text-align: right;\n",
              "    }\n",
              "</style>\n",
              "<table border=\"1\" class=\"dataframe\">\n",
              "  <thead>\n",
              "    <tr style=\"text-align: right;\">\n",
              "      <th></th>\n",
              "      <th>student_id</th>\n",
              "      <th>gender</th>\n",
              "      <th>major</th>\n",
              "      <th>admitted</th>\n",
              "    </tr>\n",
              "  </thead>\n",
              "  <tbody>\n",
              "    <tr>\n",
              "      <th>0</th>\n",
              "      <td>35377</td>\n",
              "      <td>female</td>\n",
              "      <td>Chemistry</td>\n",
              "      <td>False</td>\n",
              "    </tr>\n",
              "    <tr>\n",
              "      <th>1</th>\n",
              "      <td>56105</td>\n",
              "      <td>male</td>\n",
              "      <td>Physics</td>\n",
              "      <td>True</td>\n",
              "    </tr>\n",
              "    <tr>\n",
              "      <th>2</th>\n",
              "      <td>31441</td>\n",
              "      <td>female</td>\n",
              "      <td>Chemistry</td>\n",
              "      <td>False</td>\n",
              "    </tr>\n",
              "    <tr>\n",
              "      <th>3</th>\n",
              "      <td>51765</td>\n",
              "      <td>male</td>\n",
              "      <td>Physics</td>\n",
              "      <td>True</td>\n",
              "    </tr>\n",
              "    <tr>\n",
              "      <th>4</th>\n",
              "      <td>53714</td>\n",
              "      <td>female</td>\n",
              "      <td>Physics</td>\n",
              "      <td>True</td>\n",
              "    </tr>\n",
              "  </tbody>\n",
              "</table>\n",
              "</div>"
            ],
            "text/plain": [
              "   student_id  gender      major  admitted\n",
              "0       35377  female  Chemistry     False\n",
              "1       56105    male    Physics      True\n",
              "2       31441  female  Chemistry     False\n",
              "3       51765    male    Physics      True\n",
              "4       53714  female    Physics      True"
            ]
          },
          "metadata": {
            "tags": []
          },
          "execution_count": 6
        }
      ]
    },
    {
      "cell_type": "code",
      "metadata": {
        "colab": {
          "base_uri": "https://localhost:8080/"
        },
        "id": "oP_TnwjltbG7",
        "outputId": "db63fbd7-1376-4eaa-93c3-4c5cca296592"
      },
      "source": [
        "df.info()"
      ],
      "execution_count": 7,
      "outputs": [
        {
          "output_type": "stream",
          "text": [
            "<class 'pandas.core.frame.DataFrame'>\n",
            "RangeIndex: 500 entries, 0 to 499\n",
            "Data columns (total 4 columns):\n",
            " #   Column      Non-Null Count  Dtype \n",
            "---  ------      --------------  ----- \n",
            " 0   student_id  500 non-null    int64 \n",
            " 1   gender      500 non-null    object\n",
            " 2   major       500 non-null    object\n",
            " 3   admitted    500 non-null    bool  \n",
            "dtypes: bool(1), int64(1), object(2)\n",
            "memory usage: 12.3+ KB\n"
          ],
          "name": "stdout"
        }
      ]
    },
    {
      "cell_type": "markdown",
      "metadata": {
        "id": "_h8_mVAdtbG8"
      },
      "source": [
        "### 1. Find out the following :-\n",
        "* Proportion and admission rate for each gender.\n",
        "* Proportion and admission rate for physics majors of each gender.\n",
        "* Proportion and admission rate for chemistry majors of each gender.\n",
        "* Admission rate for each major."
      ]
    },
    {
      "cell_type": "code",
      "metadata": {
        "colab": {
          "base_uri": "https://localhost:8080/",
          "height": 204
        },
        "id": "O1JhX27Ytle6",
        "outputId": "189a9aaf-357d-44e4-bd45-ca475c803bc3"
      },
      "source": [
        "df.groupby(['admitted','gender']).sum()"
      ],
      "execution_count": 8,
      "outputs": [
        {
          "output_type": "execute_result",
          "data": {
            "text/html": [
              "<div>\n",
              "<style scoped>\n",
              "    .dataframe tbody tr th:only-of-type {\n",
              "        vertical-align: middle;\n",
              "    }\n",
              "\n",
              "    .dataframe tbody tr th {\n",
              "        vertical-align: top;\n",
              "    }\n",
              "\n",
              "    .dataframe thead th {\n",
              "        text-align: right;\n",
              "    }\n",
              "</style>\n",
              "<table border=\"1\" class=\"dataframe\">\n",
              "  <thead>\n",
              "    <tr style=\"text-align: right;\">\n",
              "      <th></th>\n",
              "      <th></th>\n",
              "      <th>student_id</th>\n",
              "    </tr>\n",
              "    <tr>\n",
              "      <th>admitted</th>\n",
              "      <th>gender</th>\n",
              "      <th></th>\n",
              "    </tr>\n",
              "  </thead>\n",
              "  <tbody>\n",
              "    <tr>\n",
              "      <th rowspan=\"2\" valign=\"top\">False</th>\n",
              "      <th>female</th>\n",
              "      <td>7747383</td>\n",
              "    </tr>\n",
              "    <tr>\n",
              "      <th>male</th>\n",
              "      <td>5145707</td>\n",
              "    </tr>\n",
              "    <tr>\n",
              "      <th rowspan=\"2\" valign=\"top\">True</th>\n",
              "      <th>female</th>\n",
              "      <td>3073116</td>\n",
              "    </tr>\n",
              "    <tr>\n",
              "      <th>male</th>\n",
              "      <td>4781336</td>\n",
              "    </tr>\n",
              "  </tbody>\n",
              "</table>\n",
              "</div>"
            ],
            "text/plain": [
              "                 student_id\n",
              "admitted gender            \n",
              "False    female     7747383\n",
              "         male       5145707\n",
              "True     female     3073116\n",
              "         male       4781336"
            ]
          },
          "metadata": {
            "tags": []
          },
          "execution_count": 8
        }
      ]
    },
    {
      "cell_type": "code",
      "metadata": {
        "colab": {
          "base_uri": "https://localhost:8080/",
          "height": 142
        },
        "id": "VzZsW0LXFvmb",
        "outputId": "9fc0d48b-d47d-49f8-b918-18890c9247a1"
      },
      "source": [
        "pd.crosstab(df.admitted,df.gender).apply(lambda r: r/r.sum(),axis=1)*100"
      ],
      "execution_count": 9,
      "outputs": [
        {
          "output_type": "execute_result",
          "data": {
            "text/html": [
              "<div>\n",
              "<style scoped>\n",
              "    .dataframe tbody tr th:only-of-type {\n",
              "        vertical-align: middle;\n",
              "    }\n",
              "\n",
              "    .dataframe tbody tr th {\n",
              "        vertical-align: top;\n",
              "    }\n",
              "\n",
              "    .dataframe thead th {\n",
              "        text-align: right;\n",
              "    }\n",
              "</style>\n",
              "<table border=\"1\" class=\"dataframe\">\n",
              "  <thead>\n",
              "    <tr style=\"text-align: right;\">\n",
              "      <th>gender</th>\n",
              "      <th>female</th>\n",
              "      <th>male</th>\n",
              "    </tr>\n",
              "    <tr>\n",
              "      <th>admitted</th>\n",
              "      <th></th>\n",
              "      <th></th>\n",
              "    </tr>\n",
              "  </thead>\n",
              "  <tbody>\n",
              "    <tr>\n",
              "      <th>False</th>\n",
              "      <td>59.415584</td>\n",
              "      <td>40.584416</td>\n",
              "    </tr>\n",
              "    <tr>\n",
              "      <th>True</th>\n",
              "      <td>38.541667</td>\n",
              "      <td>61.458333</td>\n",
              "    </tr>\n",
              "  </tbody>\n",
              "</table>\n",
              "</div>"
            ],
            "text/plain": [
              "gender       female       male\n",
              "admitted                      \n",
              "False     59.415584  40.584416\n",
              "True      38.541667  61.458333"
            ]
          },
          "metadata": {
            "tags": []
          },
          "execution_count": 9
        }
      ]
    },
    {
      "cell_type": "markdown",
      "metadata": {
        "id": "HEwpJ7RhtbG9"
      },
      "source": [
        "### 2. What proportion of female students are majoring in physics?"
      ]
    },
    {
      "cell_type": "code",
      "metadata": {
        "colab": {
          "base_uri": "https://localhost:8080/"
        },
        "id": "Kydp4vAatbG9",
        "outputId": "0deb18e4-d2be-4221-f287-4690c2ec1e1b"
      },
      "source": [
        "#pd.crosstab(df.major,df.gender).apply(lambda r: r/r.sum(), axis=1)*100\n",
        "a = df.loc[(df['major'] == 'Physics') & (df['gender'] == 'female')].count()\n",
        "b = df.loc[(df['major'] == 'Physics')].count()\n",
        "(a['admitted']/b['admitted'])*100"
      ],
      "execution_count": 10,
      "outputs": [
        {
          "output_type": "execute_result",
          "data": {
            "text/plain": [
              "12.109375"
            ]
          },
          "metadata": {
            "tags": []
          },
          "execution_count": 10
        }
      ]
    },
    {
      "cell_type": "markdown",
      "metadata": {
        "id": "rXnPBmKrtbG-"
      },
      "source": [
        "### 3. What proportion of male students are majoring in physics?"
      ]
    },
    {
      "cell_type": "code",
      "metadata": {
        "colab": {
          "base_uri": "https://localhost:8080/"
        },
        "id": "m3joinQLtbG_",
        "outputId": "cae87874-6ce3-4176-8fbf-0f32eee63936"
      },
      "source": [
        "a = df.loc[(df['major'] == 'Physics') & (df['gender'] == 'male')].count()\n",
        "b = df.loc[(df['major'] == 'Physics')].count()\n",
        "(a['admitted']/b['admitted'])*100"
      ],
      "execution_count": 11,
      "outputs": [
        {
          "output_type": "execute_result",
          "data": {
            "text/plain": [
              "87.890625"
            ]
          },
          "metadata": {
            "tags": []
          },
          "execution_count": 11
        }
      ]
    },
    {
      "cell_type": "markdown",
      "metadata": {
        "id": "dPK3IMDttbG_"
      },
      "source": [
        "### 4. What is the admission rate for female physics majors?"
      ]
    },
    {
      "cell_type": "code",
      "metadata": {
        "colab": {
          "base_uri": "https://localhost:8080/"
        },
        "id": "q4SEx5cgtbHA",
        "outputId": "dbe97835-024c-411e-d18f-9ae5097d045b"
      },
      "source": [
        "a = df.loc[(df['major'] == 'Physics') & (df['gender'] == 'female') & (df['admitted']==True)].count()\n",
        "b = df.loc[(df['major'] == 'Physics')].count()\n",
        "(a['admitted']/b['admitted'])*100"
      ],
      "execution_count": 12,
      "outputs": [
        {
          "output_type": "execute_result",
          "data": {
            "text/plain": [
              "8.984375"
            ]
          },
          "metadata": {
            "tags": []
          },
          "execution_count": 12
        }
      ]
    },
    {
      "cell_type": "markdown",
      "metadata": {
        "id": "nYw3VuJQtbHB"
      },
      "source": [
        "### 5. What is the admission rate for male physics majors?"
      ]
    },
    {
      "cell_type": "code",
      "metadata": {
        "colab": {
          "base_uri": "https://localhost:8080/"
        },
        "id": "blACs3HvtbHB",
        "outputId": "aed558a3-95dd-4885-c783-665dbc21191b"
      },
      "source": [
        "a = df.loc[(df['major'] == 'Physics') & (df['gender'] == 'male') & (df['admitted']==True)].count()\n",
        "b = df.loc[(df['major'] == 'Physics')].count()\n",
        "(a['admitted']/b['admitted'])*100"
      ],
      "execution_count": 13,
      "outputs": [
        {
          "output_type": "execute_result",
          "data": {
            "text/plain": [
              "45.3125"
            ]
          },
          "metadata": {
            "tags": []
          },
          "execution_count": 13
        }
      ]
    },
    {
      "cell_type": "markdown",
      "metadata": {
        "id": "ZcfCibp1tbHC"
      },
      "source": [
        "### 6. What is the Proportion and admission rate for chemistry majors of each gender¶"
      ]
    },
    {
      "cell_type": "code",
      "metadata": {
        "colab": {
          "base_uri": "https://localhost:8080/",
          "height": 142
        },
        "id": "ykAScsaftbHC",
        "outputId": "b7a197b5-383e-4688-bb94-645ad944e499"
      },
      "source": [
        "## Your code here\n",
        "a = pd.crosstab(df.major,df.gender).apply(lambda r: r/r.sum(), axis=1)*100\n",
        "a"
      ],
      "execution_count": 17,
      "outputs": [
        {
          "output_type": "execute_result",
          "data": {
            "text/html": [
              "<div>\n",
              "<style scoped>\n",
              "    .dataframe tbody tr th:only-of-type {\n",
              "        vertical-align: middle;\n",
              "    }\n",
              "\n",
              "    .dataframe tbody tr th {\n",
              "        vertical-align: top;\n",
              "    }\n",
              "\n",
              "    .dataframe thead th {\n",
              "        text-align: right;\n",
              "    }\n",
              "</style>\n",
              "<table border=\"1\" class=\"dataframe\">\n",
              "  <thead>\n",
              "    <tr style=\"text-align: right;\">\n",
              "      <th>gender</th>\n",
              "      <th>female</th>\n",
              "      <th>male</th>\n",
              "    </tr>\n",
              "    <tr>\n",
              "      <th>major</th>\n",
              "      <th></th>\n",
              "      <th></th>\n",
              "    </tr>\n",
              "  </thead>\n",
              "  <tbody>\n",
              "    <tr>\n",
              "      <th>Chemistry</th>\n",
              "      <td>92.622951</td>\n",
              "      <td>7.377049</td>\n",
              "    </tr>\n",
              "    <tr>\n",
              "      <th>Physics</th>\n",
              "      <td>12.109375</td>\n",
              "      <td>87.890625</td>\n",
              "    </tr>\n",
              "  </tbody>\n",
              "</table>\n",
              "</div>"
            ],
            "text/plain": [
              "gender        female       male\n",
              "major                          \n",
              "Chemistry  92.622951   7.377049\n",
              "Physics    12.109375  87.890625"
            ]
          },
          "metadata": {
            "tags": []
          },
          "execution_count": 17
        }
      ]
    },
    {
      "cell_type": "markdown",
      "metadata": {
        "id": "WgQGZbK1tbHD"
      },
      "source": [
        "### 7. What is the total Admission rate for each major?"
      ]
    },
    {
      "cell_type": "code",
      "metadata": {
        "colab": {
          "base_uri": "https://localhost:8080/",
          "height": 142
        },
        "id": "D8160caetbHD",
        "outputId": "df880d21-6e93-4fab-d41c-77c4e81ddbff"
      },
      "source": [
        "pd.crosstab(df.major,df.admitted).apply(lambda r:r/r.sum(),axis=1)*100"
      ],
      "execution_count": null,
      "outputs": [
        {
          "output_type": "execute_result",
          "data": {
            "text/html": [
              "<div>\n",
              "<style scoped>\n",
              "    .dataframe tbody tr th:only-of-type {\n",
              "        vertical-align: middle;\n",
              "    }\n",
              "\n",
              "    .dataframe tbody tr th {\n",
              "        vertical-align: top;\n",
              "    }\n",
              "\n",
              "    .dataframe thead th {\n",
              "        text-align: right;\n",
              "    }\n",
              "</style>\n",
              "<table border=\"1\" class=\"dataframe\">\n",
              "  <thead>\n",
              "    <tr style=\"text-align: right;\">\n",
              "      <th>admitted</th>\n",
              "      <th>False</th>\n",
              "      <th>True</th>\n",
              "    </tr>\n",
              "    <tr>\n",
              "      <th>major</th>\n",
              "      <th></th>\n",
              "      <th></th>\n",
              "    </tr>\n",
              "  </thead>\n",
              "  <tbody>\n",
              "    <tr>\n",
              "      <th>Chemistry</th>\n",
              "      <td>78.278689</td>\n",
              "      <td>21.721311</td>\n",
              "    </tr>\n",
              "    <tr>\n",
              "      <th>Physics</th>\n",
              "      <td>45.703125</td>\n",
              "      <td>54.296875</td>\n",
              "    </tr>\n",
              "  </tbody>\n",
              "</table>\n",
              "</div>"
            ],
            "text/plain": [
              "admitted       False      True \n",
              "major                          \n",
              "Chemistry  78.278689  21.721311\n",
              "Physics    45.703125  54.296875"
            ]
          },
          "metadata": {
            "tags": []
          },
          "execution_count": 159
        }
      ]
    },
    {
      "cell_type": "code",
      "metadata": {
        "id": "A5gIZOtJaGrd"
      },
      "source": [
        ""
      ],
      "execution_count": null,
      "outputs": []
    }
  ]
}